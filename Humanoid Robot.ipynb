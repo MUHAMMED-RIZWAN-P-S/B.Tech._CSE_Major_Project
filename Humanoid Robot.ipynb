{
 "cells": [
  {
   "cell_type": "code",
   "execution_count": 11,
   "id": "6d5a1ba5",
   "metadata": {},
   "outputs": [
    {
     "name": "stdout",
     "output_type": "stream",
     "text": [
      "3.9.16\n"
     ]
    }
   ],
   "source": [
    "from platform import python_version\n",
    "print(python_version())"
   ]
  },
  {
   "cell_type": "code",
   "execution_count": 1,
   "id": "eec42d64",
   "metadata": {},
   "outputs": [],
   "source": [
    "# import matplotlib.pyplot as plt\n",
    "import cv2\n",
    "import easyocr\n",
    "import openai\n",
    "import speech_recognition as sr\n",
    "import pyttsx3\n",
    "import datetime\n",
    "import random\n",
    "import time\n",
    "\n",
    "from PIL import Image\n",
    "from transformers import BlipProcessor, BlipForConditionalGeneration\n",
    "from threading import Thread, Event\n",
    "from pyfirmata import Arduino, SERVO, util\n",
    "from time import sleep\n",
    "# from pylab import rcParams\n"
   ]
  },
  {
   "cell_type": "code",
   "execution_count": 3,
   "id": "d8973528",
   "metadata": {},
   "outputs": [],
   "source": [
    "engine = pyttsx3.init('sapi5')\n",
    "voices = engine.getProperty('voices')\n",
    "engine.setProperty('voice',voices[0].id)\n",
    "# rcParams['figure.figsize'] = 8, 16\n",
    "\n",
    "processor = BlipProcessor.from_pretrained(\"Salesforce/blip-image-captioning-large\")\n",
    "model = BlipForConditionalGeneration.from_pretrained(\"Salesforce/blip-image-captioning-large\")\n",
    "\n",
    "event1 = Event()\n",
    "event2 = Event()"
   ]
  },
  {
   "cell_type": "code",
   "execution_count": 16,
   "id": "a2f04e92",
   "metadata": {},
   "outputs": [],
   "source": [
    "board = Arduino('COM5')  # COM5 is the communication channel for the Arduino Uno\n",
    "\n",
    "board.digital[4].mode = SERVO  # hre = horizontal right eye (Wire in Arduino = White , Range is (30, 90, 150)) (50, 90, 130)\n",
    "board.digital[5].mode = SERVO  # hle = horizontal left eye (Wire in Arduino = Green, Range is (20, 80, 140)) (40, 80, 120)\n",
    "board.digital[6].mode = SERVO  # vre = vertical right eye (Wire in Arduino = Yellow , Range is (30, 90, 150)) (50, 90, 130)\n",
    "board.digital[7].mode = SERVO  # vle = vertical left eye (Wire in Arduino = Violet)Range is (30, 90, 150)) (50, 90, 130)\n",
    "board.digital[8].mode = SERVO  # uel = upper eye lids (Wire in Arduino = Orange, Range is (60, 110))\n",
    "board.digital[9].mode = SERVO  # lel = lower eye lids (Wire in Arduino = Brown)Range is (90, 120))\n",
    "board.digital[10].mode = SERVO  # Upper Lip (Wire in Arduino = Red)\n",
    "\n",
    "\n",
    "def rotate_servo(pin, angle):\n",
    "    board.digital[pin].write(angle)   \n",
    "\n",
    "    \n",
    "rotate_servo(4, 90)\n",
    "rotate_servo(5, 90)\n",
    "rotate_servo(6, 90)\n",
    "rotate_servo(7, 90)\n",
    "rotate_servo(8, 90)\n",
    "rotate_servo(9, 100)\n",
    "rotate_servo(10, 100)"
   ]
  },
  {
   "cell_type": "markdown",
   "id": "f36ea17a",
   "metadata": {},
   "source": [
    "Additional Functions (Experimental)"
   ]
  },
  {
   "cell_type": "code",
   "execution_count": 5,
   "id": "1801ad58",
   "metadata": {},
   "outputs": [],
   "source": [
    "alphabets= \"([A-Za-z])\"\n",
    "prefixes = \"(Mr|St|Mrs|Ms|Dr)[.]\"\n",
    "suffixes = \"(Inc|Ltd|Jr|Sr|Co)\"\n",
    "starters = \"(Mr|Mrs|Ms|Dr|He\\s|She\\s|It\\s|They\\s|Their\\s|Our\\s|We\\s|But\\s|However\\s|That\\s|This\\s|Wherever)\"\n",
    "acronyms = \"([A-Z][.][A-Z][.](?:[A-Z][.])?)\"\n",
    "websites = \"[.](com|net|org|io|gov)\"\n",
    "digits = \"([0-9])\"\n",
    "\n",
    "vision_keywords = [\"see\", \"scan\", \"read\"]"
   ]
  },
  {
   "cell_type": "code",
   "execution_count": 6,
   "id": "758bee59",
   "metadata": {},
   "outputs": [],
   "source": [
    "# Variables with inputs to motors for different positions of eyeballs and eyelids\n",
    "\n",
    "Front = [90, 90]\n",
    "Left = [150, 90]\n",
    "Right = [30, 90]\n",
    "Top = [90, 150]\n",
    "Lower = [90, 30]\n",
    "Top_left = [30, 30]\n",
    "Top_right = [30, 150]\n",
    "Lower_left = [150, 30]\n",
    "Lower_right = [30, 30]"
   ]
  },
  {
   "cell_type": "code",
   "execution_count": 7,
   "id": "3e1b9f92",
   "metadata": {},
   "outputs": [],
   "source": [
    "def split_into_sentences(text):\n",
    "    text = \" \" + text + \"  \"\n",
    "    text = text.replace(\"\\n\",\" \")\n",
    "    text = re.sub(prefixes,\"\\\\1<prd>\",text)\n",
    "    text = re.sub(websites,\"<prd>\\\\1\",text)\n",
    "    text = re.sub(digits + \"[.]\" + digits,\"\\\\1<prd>\\\\2\",text)\n",
    "    if \"...\" in text: text = text.replace(\"...\",\"<prd><prd><prd>\")\n",
    "    if \"Ph.D\" in text: text = text.replace(\"Ph.D.\",\"Ph<prd>D<prd>\")\n",
    "    text = re.sub(\"\\s\" + alphabets + \"[.] \",\" \\\\1<prd> \",text)\n",
    "    text = re.sub(acronyms+\" \"+starters,\"\\\\1<stop> \\\\2\",text)\n",
    "    text = re.sub(alphabets + \"[.]\" + alphabets + \"[.]\" + alphabets + \"[.]\",\"\\\\1<prd>\\\\2<prd>\\\\3<prd>\",text)\n",
    "    text = re.sub(alphabets + \"[.]\" + alphabets + \"[.]\",\"\\\\1<prd>\\\\2<prd>\",text)\n",
    "    text = re.sub(\" \"+suffixes+\"[.] \"+starters,\" \\\\1<stop> \\\\2\",text)\n",
    "    text = re.sub(\" \"+suffixes+\"[.]\",\" \\\\1<prd>\",text)\n",
    "    text = re.sub(\" \" + alphabets + \"[.]\",\" \\\\1<prd>\",text)\n",
    "    if \"”\" in text: text = text.replace(\".”\",\"”.\")\n",
    "    if \"\\\"\" in text: text = text.replace(\".\\\"\",\"\\\".\")\n",
    "    if \"!\" in text: text = text.replace(\"!\\\"\",\"\\\"!\")\n",
    "    if \"?\" in text: text = text.replace(\"?\\\"\",\"\\\"?\")\n",
    "    text = text.replace(\".\",\".<stop>\")\n",
    "    text = text.replace(\"?\",\"?<stop>\")\n",
    "    text = text.replace(\"!\",\"!<stop>\")\n",
    "    text = text.replace(\"<prd>\",\".\")\n",
    "    sentences = text.split(\"<stop>\")\n",
    "    sentences = sentences[:-1]\n",
    "    sentences = [s.strip() for s in sentences]\n",
    "    return sentences"
   ]
  },
  {
   "cell_type": "markdown",
   "id": "6c3f27d4",
   "metadata": {},
   "source": [
    "Working Functions"
   ]
  },
  {
   "cell_type": "code",
   "execution_count": 8,
   "id": "189cddc4",
   "metadata": {},
   "outputs": [],
   "source": [
    "def blinking():\n",
    "    rotate_servo(8, 130) # upper Eye Lid\n",
    "    rotate_servo(9, 90) # lower Eye Lid\n",
    "    sleep(0.1) # 100ms\n",
    "    rotate_servo(8, 90)\n",
    "    rotate_servo(9, 120)\n",
    "    \n",
    "    \n",
    "def talk(event1):\n",
    "    event1.clear()\n",
    "    while True:\n",
    "        rotate_servo(10, 100)\n",
    "        sleep(0.1)\n",
    "        rotate_servo(10, 70)\n",
    "        sleep(0.1)\n",
    "        rotate_servo(10, 100)\n",
    "        \n",
    "        sleep(random.triangular(0, 0.5))\n",
    "        \n",
    "        if event1.is_set():\n",
    "            break\n",
    "        \n",
    "    \n",
    "def idle_looking(event2):\n",
    "    event2.clear()\n",
    "    while True:\n",
    "        a = random.randint(50, 130)\n",
    "        b = random.randint(50, 130)\n",
    "\n",
    "        # Eyeballs code\n",
    "        rotate_servo(4, a)\n",
    "        rotate_servo(5, a)\n",
    "        rotate_servo(6, b)\n",
    "        rotate_servo(7, 180-b)\n",
    "        if a%2 == 0:\n",
    "            blinking()\n",
    "        sleep(random.randint(0, 3))\n",
    "        \n",
    "        if event2.is_set():\n",
    "            break"
   ]
  },
  {
   "cell_type": "code",
   "execution_count": 9,
   "id": "c381bce7",
   "metadata": {},
   "outputs": [],
   "source": [
    "def wish_master():\n",
    "    hour = int(datetime.datetime.now().hour)\n",
    "    if hour>=0 and hour<12:\n",
    "        engine_speak(\"Good Morning!\")\n",
    "    elif hour>=12 and hour<18:\n",
    "        engine_speak(\"Good Afternoon!\")   \n",
    "    else:\n",
    "        engine_speak(\"Good Evening!\")\n",
    "    engine_speak(\"I am decypher. Sir, how may I help you\")\n",
    "    \n",
    "\n",
    "def engine_speak(audio):\n",
    "    Thread(target = talk, args=(event1,)).start()\n",
    "    print(audio)\n",
    "    engine.say(audio)\n",
    "    engine.runAndWait()\n",
    "    event1.set()\n",
    "    \n",
    "    \n",
    "    \n",
    "def engine_listen():\n",
    "    r = sr.Recognizer()\n",
    "    with sr.Microphone() as source:\n",
    "        r.adjust_for_ambient_noise(source)\n",
    "        r.dynamic_energy_threshold = True\n",
    "        r.pause_threshold = 1\n",
    "        r.operation_timeout = 1\n",
    "        print('\\n')\n",
    "        print(\"Listening...\")\n",
    "        audio = r.listen(source)\n",
    "        \n",
    "    try:\n",
    "        print(\"Recognizing...\")\n",
    "        query = r.recognize_google(audio, language = \"en-US\").lower()\n",
    "        print(f\"User said: {query}\")\n",
    "        return query\n",
    "    \n",
    "    except:\n",
    "        engine_speak(\"Please repeat that one\")\n",
    "        engine_listen()"
   ]
  },
  {
   "cell_type": "code",
   "execution_count": 10,
   "id": "5818094f",
   "metadata": {},
   "outputs": [],
   "source": [
    "def camera():\n",
    "    cap = cv2.VideoCapture(0)\n",
    "    \n",
    "    # Check if camera opened successfully\n",
    "    if (cap.isOpened()== False):\n",
    "        print(\"Error opening video file\")\n",
    "    frame_no = 0\n",
    "    # Read until video is completed\n",
    "    while(cap.isOpened()):\n",
    "        frame_no += 1\n",
    "    # Capture frame-by-frame\n",
    "        ret, frame = cap.read()\n",
    "        if ret == True:\n",
    "        # Display the resulting frame\n",
    "            cv2.imshow('Video', frame)\n",
    "            key = cv2.waitKey(1)\n",
    "            if frame_no == 150:\n",
    "                image_name = \"image.png\"\n",
    "                cv2.imwrite(image_name, frame)\n",
    "                break\n",
    "  \n",
    "    # When everything is done, release the video capture object\n",
    "    cap.release()\n",
    "  \n",
    "    # Closes all the frames\n",
    "    cv2.destroyAllWindows()"
   ]
  },
  {
   "cell_type": "code",
   "execution_count": 11,
   "id": "949b1577",
   "metadata": {},
   "outputs": [],
   "source": [
    "def textextractor():\n",
    "    reader = easyocr.Reader([\"en\"], gpu = False)\n",
    "    output = reader.readtext(\"image.png\")\n",
    "    prompt = \"\"\n",
    "    for i in range(len(output)):\n",
    "        prompt = prompt + output[i][1] + \" \"\n",
    "        prompt = str(prompt)\n",
    "        \n",
    "    return prompt"
   ]
  },
  {
   "cell_type": "code",
   "execution_count": 12,
   "id": "797e1a1a",
   "metadata": {},
   "outputs": [],
   "source": [
    "def chatbot(query):\n",
    "    openai.api_key = 'API Key'\n",
    "    model_engine = 'text-davinci-003'\n",
    "    prompt = str(query)\n",
    "\n",
    "    completion = openai.Completion.create(\n",
    "        engine = model_engine,\n",
    "        prompt = prompt,\n",
    "        max_tokens = 1024,\n",
    "        n = 1,\n",
    "        stop = None,\n",
    "        temperature = 0.5,\n",
    "    )\n",
    "\n",
    "    response = completion.choices[0].text\n",
    "    return response"
   ]
  },
  {
   "cell_type": "code",
   "execution_count": 13,
   "id": "1eb8c6de",
   "metadata": {},
   "outputs": [],
   "source": [
    "def ImageCaptioning():\n",
    "    camera()\n",
    "    image = Image.open(\"image.png\").convert('RGB')\n",
    "    \n",
    "    inputs = processor(image, return_tensors=\"pt\")\n",
    "    out = model.generate(**inputs)\n",
    "    \n",
    "    return(processor.decode(out[0], skip_special_tokens=True))"
   ]
  },
  {
   "cell_type": "code",
   "execution_count": 14,
   "id": "aa60a2bb",
   "metadata": {},
   "outputs": [],
   "source": [
    "def Decypher():\n",
    "    Thread(target = idle_looking, args=(event2,)).start()\n",
    "    wish_master()\n",
    "    \n",
    "    while True:\n",
    "        query = engine_listen()\n",
    "        \n",
    "        if query is not None:\n",
    "            if \"read\" in query or \"written\" in query:\n",
    "                response = camera()\n",
    "                response = textextractor()\n",
    "                print(response)\n",
    "                # jhkjkjh\n",
    "                engine_speak(\"Yes I can sir.\")\n",
    "                engine_speak(response)\n",
    "            \n",
    "            elif \"see\" in query or \"scan\" in query:\n",
    "                response = ImageCaptioning()\n",
    "                engine_speak(response)\n",
    "                 \n",
    "            elif \"bye robot\" in query or \"shutdown robot\" in query:\n",
    "                engine_speak(\"It was a pleasure to meet you, have a nice day sir.\")\n",
    "                break\n",
    "\n",
    "            else:\n",
    "                response = chatbot(query)\n",
    "                engine_speak(response)\n",
    "                \n",
    "    event2.set()\n",
    "    rotate_servo(4, 90)\n",
    "    rotate_servo(5, 90)\n",
    "    rotate_servo(6, 90)\n",
    "    rotate_servo(7, 90)\n",
    "    rotate_servo(8, 90)\n",
    "    rotate_servo(9, 100)\n",
    "    rotate_servo(10, 100)"
   ]
  },
  {
   "cell_type": "code",
   "execution_count": null,
   "id": "571b00b4",
   "metadata": {},
   "outputs": [
    {
     "name": "stdout",
     "output_type": "stream",
     "text": [
      "Good Morning!\n",
      "I am decypher. Sir, how may I help you\n",
      "\n",
      "\n",
      "Listening...\n"
     ]
    }
   ],
   "source": [
    "Decypher()"
   ]
  }
 ],
 "metadata": {
  "kernelspec": {
   "display_name": "Python 3 (ipykernel)",
   "language": "python",
   "name": "python3"
  },
  "language_info": {
   "codemirror_mode": {
    "name": "ipython",
    "version": 3
   },
   "file_extension": ".py",
   "mimetype": "text/x-python",
   "name": "python",
   "nbconvert_exporter": "python",
   "pygments_lexer": "ipython3",
   "version": "3.9.16"
  }
 },
 "nbformat": 4,
 "nbformat_minor": 5
}
